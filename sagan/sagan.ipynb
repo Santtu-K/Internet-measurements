{
 "cells": [
  {
   "cell_type": "code",
   "execution_count": 88,
   "id": "c3d3cca8",
   "metadata": {},
   "outputs": [
    {
     "name": "stdout",
     "output_type": "stream",
     "text": [
      "[<ripe.atlas.sagan.traceroute.Hop object at 0x1795b23f0>, <ripe.atlas.sagan.traceroute.Hop object at 0x1795b0830>, <ripe.atlas.sagan.traceroute.Hop object at 0x1795b1430>, <ripe.atlas.sagan.traceroute.Hop object at 0x1795b2c60>, <ripe.atlas.sagan.traceroute.Hop object at 0x1795b0800>, <ripe.atlas.sagan.traceroute.Hop object at 0x1795b1af0>, <ripe.atlas.sagan.traceroute.Hop object at 0x1795b1280>, <ripe.atlas.sagan.traceroute.Hop object at 0x1795b13a0>, <ripe.atlas.sagan.traceroute.Hop object at 0x1795b1100>]\n"
     ]
    }
   ],
   "source": [
    "from ripe.atlas.sagan import Result\n",
    "\n",
    "my_results_file = \"data.txt\"\n",
    "with open(my_results_file) as results:\n",
    "    for result in results.readlines():\n",
    "        parsed_result = Result.get(result)\n",
    "        print(parsed_result.hops)"
   ]
  },
  {
   "cell_type": "code",
   "execution_count": 89,
   "id": "24280d45",
   "metadata": {},
   "outputs": [
    {
     "ename": "TypeError",
     "evalue": "search_best() argument 1 must be str, not None",
     "output_type": "error",
     "traceback": [
      "\u001b[0;31m---------------------------------------------------------------------------\u001b[0m",
      "\u001b[0;31mTypeError\u001b[0m                                 Traceback (most recent call last)",
      "Cell \u001b[0;32mIn[89], line 32\u001b[0m\n\u001b[1;32m     30\u001b[0m \u001b[38;5;28;01mfor\u001b[39;00m path \u001b[38;5;129;01min\u001b[39;00m [path_1, path_2, path_3]:\n\u001b[1;32m     31\u001b[0m     \u001b[38;5;28;01mfor\u001b[39;00m idx, x \u001b[38;5;129;01min\u001b[39;00m \u001b[38;5;28menumerate\u001b[39m(path):\n\u001b[0;32m---> 32\u001b[0m         asn \u001b[38;5;241m=\u001b[39m \u001b[43masndb\u001b[49m\u001b[38;5;241;43m.\u001b[39;49m\u001b[43mlookup\u001b[49m\u001b[43m(\u001b[49m\u001b[43mx\u001b[49m\u001b[43m)\u001b[49m[\u001b[38;5;241m0\u001b[39m]\n\u001b[1;32m     33\u001b[0m         path[idx] \u001b[38;5;241m=\u001b[39m asn\n\u001b[1;32m     35\u001b[0m     path \u001b[38;5;241m=\u001b[39m np\u001b[38;5;241m.\u001b[39marray(\u001b[38;5;28mlist\u001b[39m(\u001b[38;5;28mfilter\u001b[39m(\u001b[38;5;28;01mlambda\u001b[39;00m x: x \u001b[38;5;241m!=\u001b[39m \u001b[38;5;124m'\u001b[39m\u001b[38;5;124mNone\u001b[39m\u001b[38;5;124m'\u001b[39m, path))) \u001b[38;5;66;03m# Remove NONE values\u001b[39;00m\n",
      "File \u001b[0;32m/Library/Frameworks/Python.framework/Versions/3.12/lib/python3.12/site-packages/pyasn/__init__.py:132\u001b[0m, in \u001b[0;36mpyasn.lookup\u001b[0;34m(self, ip_address)\u001b[0m\n\u001b[1;32m    122\u001b[0m \u001b[38;5;28;01mdef\u001b[39;00m \u001b[38;5;21mlookup\u001b[39m(\u001b[38;5;28mself\u001b[39m, ip_address):\n\u001b[1;32m    123\u001b[0m \u001b[38;5;250m    \u001b[39m\u001b[38;5;124;03m\"\"\"\u001b[39;00m\n\u001b[1;32m    124\u001b[0m \u001b[38;5;124;03m    Returns the as number and best matching prefix for given ip address.\\n\u001b[39;00m\n\u001b[1;32m    125\u001b[0m \u001b[38;5;124;03m    :param ip_address: String representation of ip address , for example \"8.8.8.8\".\u001b[39;00m\n\u001b[0;32m   (...)\u001b[0m\n\u001b[1;32m    130\u001b[0m \u001b[38;5;124;03m        Returns (None, None) if the IP address is not found (=not advertised, unreachable)\u001b[39;00m\n\u001b[1;32m    131\u001b[0m \u001b[38;5;124;03m    \"\"\"\u001b[39;00m\n\u001b[0;32m--> 132\u001b[0m     rn \u001b[38;5;241m=\u001b[39m \u001b[38;5;28;43mself\u001b[39;49m\u001b[38;5;241;43m.\u001b[39;49m\u001b[43mradix\u001b[49m\u001b[38;5;241;43m.\u001b[39;49m\u001b[43msearch_best\u001b[49m\u001b[43m(\u001b[49m\u001b[43mip_address\u001b[49m\u001b[43m)\u001b[49m\n\u001b[1;32m    133\u001b[0m     \u001b[38;5;28;01mreturn\u001b[39;00m (rn\u001b[38;5;241m.\u001b[39masn, rn\u001b[38;5;241m.\u001b[39mprefix) \u001b[38;5;28;01mif\u001b[39;00m rn \u001b[38;5;28;01melse\u001b[39;00m (\u001b[38;5;28;01mNone\u001b[39;00m, \u001b[38;5;28;01mNone\u001b[39;00m)\n",
      "\u001b[0;31mTypeError\u001b[0m: search_best() argument 1 must be str, not None"
     ]
    }
   ],
   "source": [
    "import requests\n",
    "from ripe.atlas.sagan import Result\n",
    "from ripe.atlas.sagan import TracerouteResult\n",
    "import numpy as np\n",
    "from aslookup import get_as_data\n",
    "import pyasn\n",
    "import networkx as nx\n",
    "import matplotlib.pyplot as plt\n",
    "\n",
    "asndb = pyasn.pyasn('ipasn_db.dat')\n",
    "G = nx.Graph()\n",
    "\n",
    "measurement_ids = [100274119, 103112978]\n",
    "\n",
    "for measurement_id in measurement_ids:\n",
    "    source = 'https://atlas.ripe.net/api/v2/measurements/' + str(measurement_id)+ '/results/'\n",
    "    response = requests.get(source)\n",
    "    data = response.json()\n",
    "\n",
    "    for x in data:\n",
    "        parsed = TracerouteResult(x)\n",
    "        path_ip = parsed.ip_path\n",
    "\n",
    "        arr = np.array(path_ip)\n",
    "\n",
    "        path_1 = arr[:,0]\n",
    "        path_2 = arr[:,1]\n",
    "        path_3 = arr[:,2]\n",
    "\n",
    "        for path in [path_1, path_2, path_3]:\n",
    "            for idx, x in enumerate(path):\n",
    "                asn = asndb.lookup(x)[0]\n",
    "                path[idx] = asn\n",
    "            \n",
    "            path = np.array(list(filter(lambda x: x != 'None', path))) # Remove NONE values\n",
    "            path_size = path.size\n",
    "\n",
    "            flat_path = [path[0]]\n",
    "            for i in range(1, path_size - 1):\n",
    "                x = path[i]\n",
    "                last_elem = flat_path[-1]\n",
    "\n",
    "                if x == last_elem:\n",
    "                    continue\n",
    "                else:\n",
    "                    flat_path.append(x)\n",
    "\n",
    "            flat_path = np.array(flat_path) \n",
    "            # print(\"original path\", path)\n",
    "            # print(\"flat path\", flat_path)\n",
    "\n",
    "            flat_path_size = flat_path.size\n",
    "            G.add_node(flat_path[0])\n",
    "            for i in range(1, flat_path_size):\n",
    "                prev = flat_path[i-1]\n",
    "                asn = flat_path[i]\n",
    "                G.add_node(asn)\n",
    "                G.add_edge(asn, prev)\n",
    "\n",
    "\n",
    "nx.draw(G, with_labels=True, font_weight='bold')\n"
   ]
  },
  {
   "cell_type": "code",
   "execution_count": null,
   "id": "6554bb5a",
   "metadata": {},
   "outputs": [
    {
     "name": "stdout",
     "output_type": "stream",
     "text": [
      "Graph with 2 nodes and 1 edges\n"
     ]
    },
    {
     "data": {
      "image/png": "[encoded data removed]",
      "text/plain": [
       "<Figure size 640x480 with 1 Axes>"
      ]
     },
     "metadata": {},
     "output_type": "display_data"
    }
   ],
   "source": [
    "import networkx as nx\n",
    "import matplotlib.pyplot as plt\n",
    "\n",
    "\n",
    "G = nx.Graph()\n",
    "\n",
    "G.add_node(67)\n",
    "G.add_node(22)\n",
    "G.add_node(22)\n",
    "G.add_edge(67,22)\n",
    "G.add_edge(67,22)\n",
    "G.add_edge(22,67)\n",
    "G.add_node(22)\n",
    "\n",
    "\n",
    "print(G)\n",
    "nx.draw(G, with_labels=True, font_weight='bold')"
   ]
  },
  {
   "cell_type": "code",
   "execution_count": null,
   "id": "787531f4",
   "metadata": {},
   "outputs": [
    {
     "name": "stdout",
     "output_type": "stream",
     "text": [
      "IGRAPH UN-- 2 0 --\n",
      "+ attr: name (v)\n"
     ]
    },
    {
     "name": "stderr",
     "output_type": "stream",
     "text": [
      "/var/folders/dw/2p1g8d754ygdc7vnzvm1kxd80000gn/T/ipykernel_1778/2819888328.py:5: DeprecationWarning: You are using integers as vertex names. This is discouraged because most igraph functions interpret integers as vertex _IDs_ and strings as vertex names. For sake of consistency, convert your vertex names to strings before assigning them. Future versions from igraph 0.11.0 will disallow integers as vertex names.\n",
      "  g.add_vertex(67)\n",
      "/var/folders/dw/2p1g8d754ygdc7vnzvm1kxd80000gn/T/ipykernel_1778/2819888328.py:6: DeprecationWarning: You are using integers as vertex names. This is discouraged because most igraph functions interpret integers as vertex _IDs_ and strings as vertex names. For sake of consistency, convert your vertex names to strings before assigning them. Future versions from igraph 0.11.0 will disallow integers as vertex names.\n",
      "  g.add_vertex(22)\n"
     ]
    },
    {
     "ename": "InternalError",
     "evalue": "Error at src/graph/type_indexededgelist.c:261: Out-of-range vertex IDs when adding edges. -- Invalid vertex ID",
     "output_type": "error",
     "traceback": [
      "\u001b[0;31m---------------------------------------------------------------------------\u001b[0m",
      "\u001b[0;31mInternalError\u001b[0m                             Traceback (most recent call last)",
      "Cell \u001b[0;32mIn[64], line 11\u001b[0m\n\u001b[1;32m      9\u001b[0m layout \u001b[38;5;241m=\u001b[39m g\u001b[38;5;241m.\u001b[39mlayout(\u001b[38;5;124m\"\u001b[39m\u001b[38;5;124mkk\u001b[39m\u001b[38;5;124m\"\u001b[39m)\n\u001b[1;32m     10\u001b[0m \u001b[38;5;66;03m# ig.plot(g, layout=layout)\u001b[39;00m\n\u001b[0;32m---> 11\u001b[0m \u001b[43mg\u001b[49m\u001b[38;5;241;43m.\u001b[39;49m\u001b[43madd_edge\u001b[49m\u001b[43m(\u001b[49m\u001b[38;5;241;43m67\u001b[39;49m\u001b[43m,\u001b[49m\u001b[38;5;241;43m22\u001b[39;49m\u001b[43m)\u001b[49m\n\u001b[1;32m     13\u001b[0m g\u001b[38;5;241m.\u001b[39mvs[\u001b[38;5;124m\"\u001b[39m\u001b[38;5;124mlabel\u001b[39m\u001b[38;5;124m\"\u001b[39m] \u001b[38;5;241m=\u001b[39m g\u001b[38;5;241m.\u001b[39mvs[\u001b[38;5;124m\"\u001b[39m\u001b[38;5;124mname\u001b[39m\u001b[38;5;124m\"\u001b[39m]\n\u001b[1;32m     14\u001b[0m \u001b[38;5;28;01mimport\u001b[39;00m \u001b[38;5;21;01mmatplotlib\u001b[39;00m\u001b[38;5;21;01m.\u001b[39;00m\u001b[38;5;21;01mpyplot\u001b[39;00m \u001b[38;5;28;01mas\u001b[39;00m \u001b[38;5;21;01mplt\u001b[39;00m\n",
      "File \u001b[0;32m/Library/Frameworks/Python.framework/Versions/3.12/lib/python3.12/site-packages/igraph/basic.py:24\u001b[0m, in \u001b[0;36m_add_edge\u001b[0;34m(graph, source, target, **kwds)\u001b[0m\n\u001b[1;32m      7\u001b[0m \u001b[38;5;250m\u001b[39m\u001b[38;5;124;03m\"\"\"Adds a single edge to the graph.\u001b[39;00m\n\u001b[1;32m      8\u001b[0m \n\u001b[1;32m      9\u001b[0m \u001b[38;5;124;03mKeyword arguments (except the source and target arguments) will be\u001b[39;00m\n\u001b[0;32m   (...)\u001b[0m\n\u001b[1;32m     21\u001b[0m \u001b[38;5;124;03m    object and want to avoid the overhead of creating it.\u001b[39;00m\n\u001b[1;32m     22\u001b[0m \u001b[38;5;124;03m\"\"\"\u001b[39;00m\n\u001b[1;32m     23\u001b[0m eid \u001b[38;5;241m=\u001b[39m graph\u001b[38;5;241m.\u001b[39mecount()\n\u001b[0;32m---> 24\u001b[0m \u001b[43mgraph\u001b[49m\u001b[38;5;241;43m.\u001b[39;49m\u001b[43madd_edges\u001b[49m\u001b[43m(\u001b[49m\u001b[43m[\u001b[49m\u001b[43m(\u001b[49m\u001b[43msource\u001b[49m\u001b[43m,\u001b[49m\u001b[43m \u001b[49m\u001b[43mtarget\u001b[49m\u001b[43m)\u001b[49m\u001b[43m]\u001b[49m\u001b[43m)\u001b[49m\n\u001b[1;32m     25\u001b[0m edge \u001b[38;5;241m=\u001b[39m graph\u001b[38;5;241m.\u001b[39mes[eid]\n\u001b[1;32m     26\u001b[0m \u001b[38;5;28;01mfor\u001b[39;00m key, value \u001b[38;5;129;01min\u001b[39;00m kwds\u001b[38;5;241m.\u001b[39mitems():\n",
      "File \u001b[0;32m/Library/Frameworks/Python.framework/Versions/3.12/lib/python3.12/site-packages/igraph/basic.py:42\u001b[0m, in \u001b[0;36m_add_edges\u001b[0;34m(graph, es, attributes)\u001b[0m\n\u001b[1;32m     32\u001b[0m \u001b[38;5;250m\u001b[39m\u001b[38;5;124;03m\"\"\"Adds some edges to the graph.\u001b[39;00m\n\u001b[1;32m     33\u001b[0m \n\u001b[1;32m     34\u001b[0m \u001b[38;5;124;03m@param es: the list of edges to be added. Every edge is represented\u001b[39;00m\n\u001b[0;32m   (...)\u001b[0m\n\u001b[1;32m     39\u001b[0m \u001b[38;5;124;03m  edges.\u001b[39;00m\n\u001b[1;32m     40\u001b[0m \u001b[38;5;124;03m\"\"\"\u001b[39;00m\n\u001b[1;32m     41\u001b[0m eid \u001b[38;5;241m=\u001b[39m graph\u001b[38;5;241m.\u001b[39mecount()\n\u001b[0;32m---> 42\u001b[0m res \u001b[38;5;241m=\u001b[39m \u001b[43mGraphBase\u001b[49m\u001b[38;5;241;43m.\u001b[39;49m\u001b[43madd_edges\u001b[49m\u001b[43m(\u001b[49m\u001b[43mgraph\u001b[49m\u001b[43m,\u001b[49m\u001b[43m \u001b[49m\u001b[43mes\u001b[49m\u001b[43m)\u001b[49m\n\u001b[1;32m     43\u001b[0m n \u001b[38;5;241m=\u001b[39m graph\u001b[38;5;241m.\u001b[39mecount() \u001b[38;5;241m-\u001b[39m eid\n\u001b[1;32m     44\u001b[0m \u001b[38;5;28;01mif\u001b[39;00m (attributes \u001b[38;5;129;01mis\u001b[39;00m \u001b[38;5;129;01mnot\u001b[39;00m \u001b[38;5;28;01mNone\u001b[39;00m) \u001b[38;5;129;01mand\u001b[39;00m (n \u001b[38;5;241m>\u001b[39m \u001b[38;5;241m0\u001b[39m):\n",
      "\u001b[0;31mInternalError\u001b[0m: Error at src/graph/type_indexededgelist.c:261: Out-of-range vertex IDs when adding edges. -- Invalid vertex ID"
     ]
    }
   ],
   "source": [
    "import igraph as ig\n",
    "\n",
    "g = ig.Graph()\n",
    "\n",
    "g.add_vertex(67)\n",
    "g.add_vertex(22)\n",
    "print(g)\n",
    "\n",
    "layout = g.layout(\"kk\")\n",
    "# ig.plot(g, layout=layout)\n",
    "g.add_edge(67,22)\n",
    "\n",
    "g.vs[\"label\"] = g.vs[\"name\"]\n",
    "import matplotlib.pyplot as plt\n",
    "fig, ax = plt.subplots()\n",
    "ig.plot(g, layout=layout, target=ax)"
   ]
  },
  {
   "cell_type": "code",
   "execution_count": null,
   "id": "815382b3",
   "metadata": {},
   "outputs": [
    {
     "data": {
      "text/plain": [
       "(15169, '8.8.8.0/24')"
      ]
     },
     "execution_count": 32,
     "metadata": {},
     "output_type": "execute_result"
    }
   ],
   "source": [
    "import pyasn\n",
    "\n",
    "# Initialize module and load IP to ASN database\n",
    "# the sample database can be downloaded or built - see below\n",
    "asndb = pyasn.pyasn('ipasn_db.dat')\n",
    "\n",
    "asndb.lookup('8.8.8.8')\n",
    "# should return: (15169, '8.8.8.0/24'), the origin AS, and the BGP prefix it matches\n",
    "\n",
    "# asndb.get_as_prefixes(1128)\n",
    "# # returns ['130.161.0.0/16', '131.180.0.0/16', '145.94.0.0/16'], TU-Delft prefixes"
   ]
  },
  {
   "cell_type": "code",
   "execution_count": null,
   "id": "d7df0e0c",
   "metadata": {},
   "outputs": [
    {
     "name": "stdout",
     "output_type": "stream",
     "text": [
      "<class 'list'>\n",
      "2\n"
     ]
    }
   ],
   "source": [
    "a = [1,2]\n",
    "print(type(a))\n",
    "print(a[-1])\n",
    "\n",
    "    # for ip in path_1:\n",
    "    #     print(ip)\n",
    "    #     print(type(ip))\n",
    "\n",
    "    #     asn = asndb.lookup(ip)[0]\n",
    "\n",
    "    #     print(asn)\n",
    "    #     print(type(asn))\n",
    "\n",
    "    #     # ip to asn\n",
    "\n",
    "    # print(arr.shape)\n",
    "    # print(path_1.shape)\n",
    "    # print(path_1)\n",
    "    #print(arr)\n",
    "    # for ip in path_ip:\n",
    "    #     print(ip)\n",
    "\n",
    "# for result in data.readlines():\n",
    "#     parsed_result = Result.get(data)\n",
    "#     print(parsed_result.origin)\n",
    "\n",
    "\n",
    "\n",
    "\n",
    "\n",
    "\n",
    "# print(response)\n",
    "# print(source)\n",
    "\n",
    "# parsed_result = Result.get(response)  # Parsing magic!\n",
    "\n",
    "# print(parsed_result.hops)\n",
    "\n",
    "# for probe_id, result in response.items():\n",
    "\n",
    "#     result = result[0]                 # There's only one result for each probe\n",
    "#     pparsed_result = Result.get(result)  # Parsing magic!\n",
    "\n",
    "#     print(parsed_result.hops)"
   ]
  },
  {
   "cell_type": "code",
   "execution_count": 114,
   "id": "92fb582f",
   "metadata": {},
   "outputs": [
    {
     "name": "stdout",
     "output_type": "stream",
     "text": [
      "<class 'requests.models.Response'>\n",
      "<Response [200]>\n",
      "traceroute\n",
      "<class 'requests.models.Response'>\n",
      "<Response [200]>\n",
      "ping\n",
      "<class 'requests.models.Response'>\n",
      "<Response [200]>\n",
      "ping\n",
      "<class 'requests.models.Response'>\n",
      "<Response [200]>\n",
      "ping\n",
      "<class 'requests.models.Response'>\n",
      "<Response [200]>\n",
      "traceroute\n",
      "<class 'requests.models.Response'>\n",
      "<Response [200]>\n",
      "ssl\n"
     ]
    },
    {
     "name": "stderr",
     "output_type": "stream",
     "text": [
      "/Library/Frameworks/Python.framework/Versions/3.12/lib/python3.12/site-packages/ripe/atlas/sagan/ssl.py:72: CryptographyDeprecationWarning: Properties that return a naïve datetime object have been deprecated. Please switch to not_valid_before_utc.\n",
      "  self.valid_from = pytz.utc.localize(cert.not_valid_before)\n",
      "/Library/Frameworks/Python.framework/Versions/3.12/lib/python3.12/site-packages/ripe/atlas/sagan/ssl.py:73: CryptographyDeprecationWarning: Properties that return a naïve datetime object have been deprecated. Please switch to not_valid_after_utc.\n",
      "  self.valid_until = pytz.utc.localize(cert.not_valid_after)\n"
     ]
    },
    {
     "name": "stdout",
     "output_type": "stream",
     "text": [
      "<class 'requests.models.Response'>\n",
      "<Response [200]>\n",
      "ping\n",
      "<class 'requests.models.Response'>\n",
      "<Response [401]>\n"
     ]
    },
    {
     "ename": "KeyError",
     "evalue": "0",
     "output_type": "error",
     "traceback": [
      "\u001b[0;31m---------------------------------------------------------------------------\u001b[0m",
      "\u001b[0;31mKeyError\u001b[0m                                  Traceback (most recent call last)",
      "Cell \u001b[0;32mIn[114], line 20\u001b[0m\n\u001b[1;32m     18\u001b[0m \u001b[38;5;28mprint\u001b[39m(response)\n\u001b[1;32m     19\u001b[0m data \u001b[38;5;241m=\u001b[39m response\u001b[38;5;241m.\u001b[39mjson()\n\u001b[0;32m---> 20\u001b[0m data_res \u001b[38;5;241m=\u001b[39m \u001b[43mdata\u001b[49m\u001b[43m[\u001b[49m\u001b[38;5;241;43m0\u001b[39;49m\u001b[43m]\u001b[49m\n\u001b[1;32m     22\u001b[0m meas \u001b[38;5;241m=\u001b[39m Result\u001b[38;5;241m.\u001b[39mget(data_res)\n\u001b[1;32m     24\u001b[0m \u001b[38;5;28mprint\u001b[39m(meas\u001b[38;5;241m.\u001b[39mtype)\n",
      "\u001b[0;31mKeyError\u001b[0m: 0"
     ]
    }
   ],
   "source": [
    "import requests\n",
    "from ripe.atlas.sagan import TracerouteResult\n",
    "from ripe.atlas.sagan import Result\n",
    "import numpy as np\n",
    "import pyasn\n",
    "import networkx as nx\n",
    "import matplotlib.pyplot as plt\n",
    "\n",
    "\n",
    "n_measurement = 10\n",
    "\n",
    "measurement_ids = np.random.randint(1, 103112978, size=n_measurement)\n",
    "\n",
    "for measurement_id in measurement_ids:\n",
    "    source = 'https://atlas.ripe.net/api/v2/measurements/' + str(measurement_id)+ '/results/'\n",
    "    response = requests.get(source)\n",
    "    print(type(response))\n",
    "    print(response)\n",
    "    data = response.json()\n",
    "    data_res = data[0]\n",
    "\n",
    "    meas = Result.get(data_res)\n",
    "\n",
    "    print(meas.type)\n",
    "\n",
    "\n",
    "    # for x in data:\n",
    "    #     parsed = TracerouteResult(x)\n",
    "    #     path_ip = parsed.ip_path\n",
    "\n",
    "    #     arr = np.array(path_ip)"
   ]
  },
  {
   "cell_type": "code",
   "execution_count": 105,
   "id": "8af8b3a2",
   "metadata": {},
   "outputs": [
    {
     "name": "stdout",
     "output_type": "stream",
     "text": [
      "<Response [200]>\n",
      "{'af': 4, 'avg': 125.109635, 'dst_addr': '125.48.77.74', 'dst_name': '125.48.77.74', 'dup': 0, 'from': '180.93.3.2', 'fw': 4910, 'group_id': 12948381, 'lts': 7, 'max': 125.109635, 'min': 125.109635, 'msm_id': 12948381, 'msm_name': 'Ping', 'prb_id': 29817, 'proto': 'ICMP', 'rcvd': 1, 'result': [{'rtt': 125.109635}], 'sent': 1, 'size': 64, 'src_addr': '192.168.1.104', 'step': None, 'stored_timestamp': 1526945025, 'timestamp': 1526945008, 'ttl': 240, 'type': 'ping'}\n",
      "ping\n"
     ]
    }
   ],
   "source": [
    "import requests\n",
    "from ripe.atlas.sagan import TracerouteResult\n",
    "from ripe.atlas.sagan import Result\n",
    "import numpy as np\n",
    "import pyasn\n",
    "import networkx as nx\n",
    "import matplotlib.pyplot as plt\n",
    "import json\n",
    "\n",
    "# url = f\"https://atlas.ripe.net/api/v2/measurements/?type=traceroute&status=2&is_oneoff=true&limit={limit}\"\n",
    "# response = requests.get(url)\n",
    "# response.raise_for_status()\n",
    "# data = response.json()\n",
    "# return [m['id'] for m in data['results']]\n",
    "\n",
    "\n",
    "# n_measurement = 10\n",
    "\n",
    "# measurement_ids = np.random.randint(1, 103112978, size=n_measurement)\n",
    "\n",
    "measurement_id = 12948381\n",
    "source = 'https://atlas.ripe.net/api/v2/measurements/' + str(measurement_id)+ '/results/'\n",
    "response = requests.get(source)\n",
    "print(response)\n",
    "data_r = response.json()\n",
    "paska = data_r[0]\n",
    "print(paska)\n",
    "\n",
    "#print(type(json.dumps(data_r)))\n",
    "\n",
    "asd = Result.get(paska)\n",
    "print(asd.type)\n",
    "\n",
    "#print(data)\n",
    "\n",
    "\n",
    "# for measurement_id in measurement_ids:\n",
    "#     source = 'https://atlas.ripe.net/api/v2/measurements/' + str(measurement_id)+ '/results/'\n",
    "#     response = requests.get(source)\n",
    "#     print(response)\n",
    "#     data = response.json()\n",
    "\n",
    "    \n",
    "\n",
    "#     print()\n",
    "\n",
    "#     # for x in data:\n",
    "#     #     parsed = TracerouteResult(x)\n",
    "#     #     path_ip = parsed.ip_path\n",
    "\n",
    "#     #     arr = np.array(path_ip)"
   ]
  },
  {
   "cell_type": "code",
   "execution_count": null,
   "id": "c1fcd043",
   "metadata": {},
   "outputs": [
    {
     "name": "stdout",
     "output_type": "stream",
     "text": [
      "<Response [400]>\n",
      "error, lets move on\n"
     ]
    }
   ],
   "source": [
    "import requests\n",
    "from ripe.atlas.sagan import TracerouteResult\n",
    "from ripe.atlas.sagan import Result\n",
    "import numpy as np\n",
    "import pyasn\n",
    "import networkx as nx\n",
    "import matplotlib.pyplot as plt\n",
    "import json\n",
    "\n",
    "import time \n",
    "\n",
    "stop = int(time.time()) # time now\n",
    "start = stop - 86400 # time yesterday\n",
    "\n",
    "\n",
    "limit = 10\n",
    "#103155911\n",
    "#id = 100274119\n",
    "#ids = \t[100274119, 103112978, 103112523,103155911, 103156016, 103157546, 1283, 1]\n",
    "#ids_str = ','.join(map(str, ids))\n",
    "#print(ids_str)\n",
    "page_size = 500\n",
    "page = 696969\n",
    "#page_size={page_size}&\n",
    "url = f\"https://atlas.ripe.net/api/v2/measurements/?type=traceroute&status=4&start_time__gte={start}&page_size={page_size}\"\n",
    "response = requests.get(url)\n",
    "print(response)\n",
    "try:\n",
    "    print(response.raise_for_status())\n",
    "    data = response.json()\n",
    "    res = [m['id'] for m in data['results']]\n",
    "    fes = np.array(res)\n",
    "    print(fes.size)\n",
    "    print(fes.shape)\n",
    "    #print(fes)\n",
    "except:\n",
    "    print(\"error, lets move on\")"
   ]
  },
  {
   "cell_type": "code",
   "execution_count": 30,
   "id": "b1b45b5a",
   "metadata": {},
   "outputs": [
    {
     "name": "stdout",
     "output_type": "stream",
     "text": [
      "None\n",
      "1\n",
      "(1,)\n",
      "[['10.0.0.1', '10.0.0.1', '10.0.0.1'], ['154.113.73.197', '154.113.73.197', '154.113.73.197'], ['41.75.80.58', '41.75.80.58', '41.75.80.58'], ['41.75.80.58', '41.75.80.58', '41.75.80.58'], ['196.216.148.32', '196.216.148.32', '196.216.148.32'], ['41.217.205.114', '41.217.205.114', '41.217.205.114'], ['192.168.150.3', '192.168.150.3', '192.168.150.3'], ['102.164.38.60', '102.164.38.60', '102.164.38.60'], ['102.164.38.60', '102.164.38.60', '102.164.38.60']]\n",
      "Flat_path in the works [37282]\n",
      "Flat_path in the works [37282]\n",
      "Flat_path in the works [37282]\n",
      "Flat_path in the works [37282, 37125]\n",
      "Flat_path in the works [37282, 37125]\n",
      "Flat_path [37282 37125]\n",
      "DIMS: (2,)\n"
     ]
    },
    {
     "data": {
      "image/png": "[encoded data removed]",
      "text/plain": [
       "<Figure size 640x480 with 1 Axes>"
      ]
     },
     "metadata": {},
     "output_type": "display_data"
    }
   ],
   "source": [
    "import requests\n",
    "from ripe.atlas.sagan import TracerouteResult\n",
    "import numpy as np\n",
    "import pyasn\n",
    "import networkx as nx\n",
    "import matplotlib.pyplot as plt\n",
    "import time \n",
    "\n",
    "asndb = pyasn.pyasn('ipasn_db.dat')\n",
    "G = nx.Graph()\n",
    "\n",
    "page_size = 500\n",
    "stop = int(time.time()) # time now\n",
    "start = stop - 86400 # time yesterday\n",
    "\n",
    "\n",
    "# # 100274119, 103112978\n",
    "# measurement_ids = [100274119, 103112978, 103112523]\n",
    "id = 100274119\n",
    "url = f\"https://atlas.ripe.net/api/v2/measurements/?type=traceroute&status=4&id={id}\"\n",
    "response = requests.get(url)\n",
    "print(response.raise_for_status())\n",
    "data = response.json()\n",
    "res = [m['id'] for m in data['results']]\n",
    "measurement_ids = np.array(res)\n",
    "print(measurement_ids.size)\n",
    "print(measurement_ids.shape)\n",
    "\n",
    "arr_np = np.array(measurement_ids)\n",
    "#print(\"Tried to found %d measurements, in the end, found %d measurements\" % (n_measurement, arr_np.size))\n",
    "\n",
    "\n",
    "for measurement_id in measurement_ids:\n",
    "    #measurement_id = 24733372\n",
    "    #print(\"found ID: \",measurement_id)\n",
    "    source = 'https://atlas.ripe.net/api/v2/measurements/' + str(measurement_id)+ '/results/'\n",
    "    response = requests.get(source)\n",
    "    data = response.json()\n",
    "\n",
    "    for x in data:\n",
    "        parsed = TracerouteResult(x)\n",
    "        path_ip = parsed.ip_path\n",
    "\n",
    "        print(path_ip)\n",
    "        min_hop_size = 99999\n",
    "        for i, hop in enumerate(path_ip):\n",
    "            \n",
    "            hop_size = len(hop)\n",
    "            #print(\"Hop:\", hop, \"Hop size:\", hop_size)\n",
    "            if hop_size < min_hop_size:\n",
    "                min_hop_size = hop_size\n",
    "\n",
    "        #new_ip_path = {}\n",
    "        asn_paths = []\n",
    "        #multiple_ASNs_flag = False\n",
    "\n",
    "        for i, hop in enumerate(path_ip):\n",
    "            #filter IP None values\n",
    "            hop = [x for x in hop if x is not None]\n",
    "            hop = [x for x in hop if x != 'None']\n",
    "            \n",
    "            new_hop = [] # ASN\n",
    "            for j, ip in enumerate(hop):\n",
    "                asn = asndb.lookup(ip)[0] # Get ASN for IP\n",
    "                if asn is not None and asn != 'None': # ASN not a None value\n",
    "                    if asn not in new_hop:\n",
    "                        new_hop.append(asn) \n",
    "                        # if len(new_hop) > 0: # Multiple ASNs per hop, thus trigger the flag (for save all paths and end here)\n",
    "                        #     multiple_ASNs_flag = True\n",
    "            \n",
    "            n_asn = len(new_hop) # Number of ASns in the hop\n",
    "            \n",
    "            if n_asn > 1: # Save all paths and end here\n",
    "                asn_paths.append(new_hop)\n",
    "                break\n",
    "            elif n_asn == 1:\n",
    "                asn = new_hop[0]\n",
    "                asn_paths.append(asn)\n",
    "\n",
    "        path_size = len(asn_paths)\n",
    "\n",
    "        if path_size > 0: # Non empty path\n",
    "            last_elem = asn_paths[-1]\n",
    "            \n",
    "            if isinstance(last_elem, int) == False:\n",
    "                if len(last_elem) > 1: # A hop contained multiple ASns\n",
    "                    flat_path = [asn_paths[0]]\n",
    "                    for i in range(1, path_size - 1): # Flatten the path --> No consecutive same ASNs in the path\n",
    "                        x = asn_paths[i]\n",
    "                        last_elem = flat_path[-1]\n",
    "                        if x == last_elem:\n",
    "                            continue\n",
    "                        else:\n",
    "                            flat_path.append(x)\n",
    "\n",
    "                    flat_path = np.array(flat_path)\n",
    "                    flat_path_size = flat_path.size\n",
    "\n",
    "                    last_flat_path = flat_path[-1]\n",
    "\n",
    "                    G.add_node(flat_path[0])\n",
    "                    for i in range(1, flat_path_size):\n",
    "                        prev = flat_path[i-1]\n",
    "                        asn = flat_path[i]\n",
    "                        G.add_node(asn)\n",
    "                        G.add_edge(asn, prev)\n",
    "                    for _, asn in last_elem:\n",
    "                        G.add_node(asn)\n",
    "                        G.add_edge(asn, last_flat_path)\n",
    "            else:\n",
    "                flat_path = [asn_paths[0]]\n",
    "                for i in range(1, path_size): # Flatten the path --> No consecutive same ASNs in the path\n",
    "                    print(\"Flat_path in the works\", flat_path)\n",
    "                    x = asn_paths[i]\n",
    "                    last_elem = flat_path[-1]\n",
    "                    if x == last_elem:\n",
    "                        continue\n",
    "                    else:\n",
    "                        flat_path.append(x)\n",
    "\n",
    "                flat_path = np.array(flat_path)\n",
    "                print(\"Flat_path\", flat_path)\n",
    "                print(\"DIMS:\", flat_path.shape)\n",
    "                flat_path_size = flat_path.size\n",
    "                G.add_node(flat_path[0])\n",
    "                for i in range(1, flat_path_size):\n",
    "                    prev = flat_path[i-1]\n",
    "                    asn = flat_path[i]\n",
    "                    G.add_node(asn)\n",
    "                    G.add_edge(asn, prev)\n",
    "\n",
    "nx.draw(G, with_labels=True, font_weight='bold')\n",
    "plt.show()\n"
   ]
  },
  {
   "cell_type": "code",
   "execution_count": null,
   "id": "14c3e42c",
   "metadata": {},
   "outputs": [
    {
     "name": "stdout",
     "output_type": "stream",
     "text": [
      "[1, 2, [3, 3]]\n",
      "A True\n",
      "B False\n"
     ]
    }
   ],
   "source": [
    "list = []\n",
    "list.append(1)\n",
    "list.append(2)\n",
    "list.append([3,3])\n",
    "\n",
    "print(list)\n",
    "\n",
    "a = 1\n",
    "b = [1, 1]\n",
    "\n",
    "print(\"A\", isinstance(a, int))\n",
    "print(\"B\", isinstance(b, int))"
   ]
  },
  {
   "cell_type": "code",
   "execution_count": null,
   "id": "1b3a6fc2",
   "metadata": {},
   "outputs": [
    {
     "name": "stdout",
     "output_type": "stream",
     "text": [
      "{1299: 1, 7843: 1, 11351: 1, 701: 1, 5650: 1, 6939: 1, 3356: 1, 3257: 1, 719: 1, 6667: 1, 13036: 1, 174: 1, 16019: 1, 1273: 1, 31034: 1, 25472: 1, 6762: 1, 39608: 1, 9211: 1, 2516: 1, 41666: 1, 8779: 1, 28773: 1, 395075: 1, 212325: 1, 2018: 1, 12414: 1, 12929: 1, 25400: 1, 6848: 1, 212655: 1, 9145: 1, 8657: 1, 1103: 1, 21320: 1, 2603: 1, 199087: 1, 47605: 1, 1835: 1, 6830: 1, 20912: 1, 12496: 1, 3213: 1, 1930: 1, 20965: 1, 2116: 1, 31027: 1, 42525: 1, 3320: 1, 12353: 1, 9044: 1, 134090: 1, 7578: 1, 28907: 1, 21466: 1, 47176: 1, 13030: 1, 39935: 1, 6866: 1, 8728: 1, 1955: 1, 42009: 1, 41495: 1, 4455: 1, 50877: 1, 5398: 1, 8879: 1, 749: 1, 139341: 1, 12874: 1, 7922: 1, 56391: 1, 9002: 1, 34549: 1, 47217: 1, 209: 1, 35847: 1, 43009: 1, 62214: 1, 34872: 1, 50673: 1, 262206: 1, 3303: 1, 200761: 1, 42541: 1, 15435: 1, 50158: 1, 51028: 1, 20485: 1, 41303: 1, 47169: 1, 13037: 1, 31615: 1, 50266: 1, 37002: 1, 4788: 1, 9031: 1, 37517: 1, 6453: 1, 34224: 1, 16276: 1, 15557: 1, 8445: 1, 15924: 1, 1415: 1, 3549: 1, 41202: 1, 28910: 1, 58453: 1, 3491: 1, 42560: 1, 31042: 1, 12008: 1, 2914: 1, 262706: 1, 7195: 1, 16735: 1, 37721: 1, 7713: 1, 22548: 1, 42473: 1, 400282: 1, 41047: 1, 264479: 1, 39120: 1, 31069: 1, 44539: 1, 12389: 1, 35612: 1, 135478: 1, 4787: 1, 21859: 1, 31898: 1, 8881: 1, 2501: 1, 2500: 1, 4713: 1, 150855: 1, 38733: 1, 212317: 1, 24940: 1, 41009: 1, 43668: 1, 199995: 1, 11708: 1, 32097: 1, 7418: 1, 12552: 1, 11090: 1, 3209: 1, 28917: 1, 7018: 1, 8339: 1, 46690: 1, 60470: 1, 35807: 1, 57304: 1, 8473: 1, 57356: 1, 702: 1, 2027: 1, 6696: 1, 393552: 1, 34779: 1, 11138: 1, 26794: 1, 46375: 1, 133982: 1, 4755: 1, 9036: 1, 201172: 1, 8764: 1, 44788: 1}\n",
      "{1299: 36, 7843: 2, 701: 1, 5650: 2, 6939: 2, 3356: 27, 3257: 2, 13036: 2, 174: 13, 1273: 3, 6762: 11, 21320: 3, 2603: 2, 47605: 3, 6830: 1, 20965: 1, 3320: 1, 749: 9, 139341: 7, 9002: 12, 6453: 5, 2914: 5, 21859: 5, 3209: 1}\n"
     ]
    },
    {
     "data": {
      "image/png": "[encoded data removed]",
      "text/plain": [
       "<Figure size 640x480 with 1 Axes>"
      ]
     },
     "metadata": {},
     "output_type": "display_data"
    }
   ],
   "source": [
    "import pickle\n",
    "import requests\n",
    "from ripe.atlas.sagan import TracerouteResult\n",
    "import numpy as np\n",
    "import pyasn\n",
    "import networkx as nx\n",
    "import matplotlib.pyplot as plt\n",
    "import time \n",
    "\n",
    "\n",
    "# load graph object from file\n",
    "G = pickle.load(open('100graph.pickle', 'rb'))\n",
    "#nx.draw(G, with_labels=True, font_weight='bold')\n",
    "\n",
    "degrees = [[int(asn),deg] for asn, deg in G.degree()]\n",
    "\n",
    "# Prune scores for all ASns/nodes\n",
    "prune_scores_list = [[int(n),1] for n in G]\n",
    "prune_scores = dict(prune_scores_list)\n",
    "\n",
    "#print(prune_scores)\n",
    "\n",
    "flag = True\n",
    "while flag == True:\n",
    "    flag = False\n",
    "\n",
    "    for i, x in enumerate(degrees):\n",
    "        asn_i = x[0]\n",
    "        degree = x[1]\n",
    "\n",
    "        if degree <= 1:\n",
    "            if degree == 1: # accumulate the prune score\n",
    "                r = list(G.edges(asn_i))\n",
    "                if len(r) > 0:\n",
    "                    #print(\"hello asn:\",asn_i, \"edge\",r, \"type\", type(r), \"len\", len(r))\n",
    "                    a = dict(r)\n",
    "                    source = a[asn_i]\n",
    "                    prune_score = prune_scores[asn_i]\n",
    "                    prune_scores[source] = prune_scores[source] + prune_score\n",
    "\n",
    "            G.remove_node(asn_i)\n",
    "            flag = True\n",
    "\n",
    "    degrees = [[int(asn),deg] for asn, deg in G.degree()]\n",
    "\n",
    "# Prune scores for only the \"important\" ASns/nodes (the ones that are left after pruning)\n",
    "important_nodes_list = [(int(n), prune_scores[n]) for n in G]\n",
    "important_nodes = dict(important_nodes_list)\n",
    "\n",
    "print(important_nodes)\n",
    "\n",
    "\n",
    "nx.draw(G, with_labels=True, font_weight='bold')\n"
   ]
  },
  {
   "cell_type": "code",
   "execution_count": 13,
   "id": "6df46988",
   "metadata": {},
   "outputs": [
    {
     "name": "stdout",
     "output_type": "stream",
     "text": [
      "1\n"
     ]
    }
   ],
   "source": [
    "a = [(\"a\", 1), (\"b\", 2), (\"c\", 3)]\n",
    "\n",
    "res = dict(a)\n",
    "\n",
    "print(res[\"a\"])"
   ]
  },
  {
   "cell_type": "code",
   "execution_count": 42,
   "id": "0301c67c",
   "metadata": {},
   "outputs": [
    {
     "name": "stderr",
     "output_type": "stream",
     "text": [
      "/Library/Frameworks/Python.framework/Versions/3.12/lib/python3.12/site-packages/pyasn/__init__.py:231: SyntaxWarning: invalid escape sequence '\\.'\n",
      "  pattern = re.compile(\"^[AS]|[as]|[aS]|[As]][0-9]*(\\.)?[0-9]+\")\n"
     ]
    },
    {
     "ename": "TypeError",
     "evalue": "search_best() argument 1 must be str, not int",
     "output_type": "error",
     "traceback": [
      "\u001b[0;31m---------------------------------------------------------------------------\u001b[0m",
      "\u001b[0;31mTypeError\u001b[0m                                 Traceback (most recent call last)",
      "Cell \u001b[0;32mIn[42], line 12\u001b[0m\n\u001b[1;32m      9\u001b[0m asndb \u001b[38;5;241m=\u001b[39m pyasn\u001b[38;5;241m.\u001b[39mpyasn(\u001b[38;5;124m'\u001b[39m\u001b[38;5;124mipasn_db.dat\u001b[39m\u001b[38;5;124m'\u001b[39m)\n\u001b[1;32m     11\u001b[0m asn \u001b[38;5;241m=\u001b[39m \u001b[38;5;241m1299\u001b[39m\n\u001b[0;32m---> 12\u001b[0m ip_n \u001b[38;5;241m=\u001b[39m \u001b[43masndb\u001b[49m\u001b[38;5;241;43m.\u001b[39;49m\u001b[43mlookup\u001b[49m\u001b[43m(\u001b[49m\u001b[43masn\u001b[49m\u001b[43m)\u001b[49m[\u001b[38;5;241m0\u001b[39m] \u001b[38;5;66;03m# Get ASN for IP\u001b[39;00m\n",
      "File \u001b[0;32m/Library/Frameworks/Python.framework/Versions/3.12/lib/python3.12/site-packages/pyasn/__init__.py:132\u001b[0m, in \u001b[0;36mpyasn.lookup\u001b[0;34m(self, ip_address)\u001b[0m\n\u001b[1;32m    122\u001b[0m \u001b[38;5;28;01mdef\u001b[39;00m \u001b[38;5;21mlookup\u001b[39m(\u001b[38;5;28mself\u001b[39m, ip_address):\n\u001b[1;32m    123\u001b[0m \u001b[38;5;250m    \u001b[39m\u001b[38;5;124;03m\"\"\"\u001b[39;00m\n\u001b[1;32m    124\u001b[0m \u001b[38;5;124;03m    Returns the as number and best matching prefix for given ip address.\\n\u001b[39;00m\n\u001b[1;32m    125\u001b[0m \u001b[38;5;124;03m    :param ip_address: String representation of ip address , for example \"8.8.8.8\".\u001b[39;00m\n\u001b[0;32m   (...)\u001b[0m\n\u001b[1;32m    130\u001b[0m \u001b[38;5;124;03m        Returns (None, None) if the IP address is not found (=not advertised, unreachable)\u001b[39;00m\n\u001b[1;32m    131\u001b[0m \u001b[38;5;124;03m    \"\"\"\u001b[39;00m\n\u001b[0;32m--> 132\u001b[0m     rn \u001b[38;5;241m=\u001b[39m \u001b[38;5;28;43mself\u001b[39;49m\u001b[38;5;241;43m.\u001b[39;49m\u001b[43mradix\u001b[49m\u001b[38;5;241;43m.\u001b[39;49m\u001b[43msearch_best\u001b[49m\u001b[43m(\u001b[49m\u001b[43mip_address\u001b[49m\u001b[43m)\u001b[49m\n\u001b[1;32m    133\u001b[0m     \u001b[38;5;28;01mreturn\u001b[39;00m (rn\u001b[38;5;241m.\u001b[39masn, rn\u001b[38;5;241m.\u001b[39mprefix) \u001b[38;5;28;01mif\u001b[39;00m rn \u001b[38;5;28;01melse\u001b[39;00m (\u001b[38;5;28;01mNone\u001b[39;00m, \u001b[38;5;28;01mNone\u001b[39;00m)\n",
      "\u001b[0;31mTypeError\u001b[0m: search_best() argument 1 must be str, not int"
     ]
    }
   ],
   "source": [
    "import requests\n",
    "from ripe.atlas.sagan import TracerouteResult\n",
    "import numpy as np\n",
    "import pyasn\n",
    "import networkx as nx\n",
    "import matplotlib.pyplot as plt\n",
    "import time \n",
    "\n",
    "asndb = pyasn.pyasn('ipasn_db.dat')\n",
    "\n",
    "asn = 1299\n",
    "ip_n = asndb.lookup(asn)[0] # Get ASN for IP\n",
    "\n"
   ]
  },
  {
   "cell_type": "code",
   "execution_count": 46,
   "id": "565f9839",
   "metadata": {},
   "outputs": [
    {
     "name": "stdout",
     "output_type": "stream",
     "text": [
      "ASN 1299 has 88 prefix(es), allocates 226304 usable IP addresses.\n"
     ]
    },
    {
     "data": {
      "text/plain": [
       "226304"
      ]
     },
     "execution_count": 46,
     "metadata": {},
     "output_type": "execute_result"
    }
   ],
   "source": [
    "import pyasn\n",
    "\n",
    "asndb = pyasn.pyasn(\"ipasn_db.dat\")\n",
    "\n",
    "asn = 1299\n",
    "def get_total_allocatable_ips(asn):\n",
    "    prefixes = asndb.get_as_prefixes(asn)\n",
    "    if not prefixes:\n",
    "        print(f\"ASN {asn} not found.\")\n",
    "        return 0\n",
    "    #print(\"prefixes\",prefixes)\n",
    "    mask = [int(p.split('/')[1]) for p in prefixes]\n",
    "    #print(\"masks\", mask)\n",
    "    total = sum(2**(32 - int(p.split('/')[1])) for p in prefixes)\n",
    "    print(f\"ASN {asn} has {len(prefixes)} prefix(es), allocates {total} usable IP addresses.\")\n",
    "    return total\n",
    "\n",
    "\n",
    "\n",
    "get_total_allocatable_ips(1299)"
   ]
  },
  {
   "cell_type": "code",
   "execution_count": 47,
   "id": "1127ea0b",
   "metadata": {},
   "outputs": [],
   "source": [
    "starts = (list(range(1,5+1)) * 2) "
   ]
  }
 ],
 "metadata": {
  "kernelspec": {
   "display_name": "Python 3",
   "language": "python",
   "name": "python3"
  },
  "language_info": {
   "codemirror_mode": {
    "name": "ipython",
    "version": 3
   },
   "file_extension": ".py",
   "mimetype": "text/x-python",
   "name": "python",
   "nbconvert_exporter": "python",
   "pygments_lexer": "ipython3",
   "version": "3.12.7"
  }
 },
 "nbformat": 4,
 "nbformat_minor": 5
}
